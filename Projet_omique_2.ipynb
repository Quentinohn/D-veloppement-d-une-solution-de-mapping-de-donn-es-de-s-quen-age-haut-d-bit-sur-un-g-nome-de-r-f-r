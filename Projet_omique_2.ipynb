{
 "cells": [
  {
   "cell_type": "markdown",
   "metadata": {},
   "source": [
    "# Projet d'Algorithmique pour la génomique "
   ]
  },
  {
   "cell_type": "markdown",
   "metadata": {},
   "source": [
    "### Développement d'une solution de mapping de données de séquencçage à haut-débit sur un génome de référence"
   ]
  },
  {
   "cell_type": "markdown",
   "metadata": {},
   "source": [
    "## I. Objectif"
   ]
  },
  {
   "attachments": {},
   "cell_type": "markdown",
   "metadata": {},
   "source": [
    "L'objectif de ce projet de génomique était de réussir à concevoir une stratégie de mapping de reads sur un génome donné.\n",
    "Il a été nécessaire durant ce projet de prêter une attention particulière aux temps de calculs et d'alignement qui peuvent être très longs en fonction de la solution proposée. De plus, les reads peuvent comporter des erreurs de séquençages qu'il est nécessaire de prendre en considération."
   ]
  },
  {
   "attachments": {},
   "cell_type": "markdown",
   "metadata": {},
   "source": [
    "### Calcul de la table des Suffixes (Difference Cover size 3)"
   ]
  },
  {
   "attachments": {},
   "cell_type": "markdown",
   "metadata": {},
   "source": [
    "Afin de pouvoir développer une stratégie de mapping efficace, il est nécessaire de calculer la table des suffixes de chacun des chromosomes. Cela permettra de retrouver rapidement les reads au sein des séquences. \n",
    "Il nous faut cependant utiliser une méthode particulière pour obtenir la table dans un temps acceptable. Pour cela nous utilisons, l'algorithme DC3 (DIfference Cover size 3)."
   ]
  },
  {
   "cell_type": "code",
   "execution_count": 10,
   "metadata": {},
   "outputs": [
    {
     "name": "stdout",
     "output_type": "stream",
     "text": [
      "###################################\n",
      "######    DC3 Run Test    #########\n",
      "###################################\n",
      "\n",
      "Retrieving genomic data...\n",
      "Genomic data retrieved !\n",
      "\n",
      "Computing the Suffix array of the first chromosome...\n",
      "Suffix array computed !\n",
      "\n",
      "First 50 indexes of the suffix array : \n",
      "[947101, 468510, 633566, 468511, 434614, 207415, 633567, 468512, 434615, 207416, 633568, 388233, 468513, 434616, 207417, 633569, 724610, 388234, 468514, 434617, 207418, 633570, 724611, 388235, 468515, 434618, 207419, 533168, 633571, 724612, 388236, 468516, 434619, 207420, 533169, 633572, 238221, 724613, 441106, 388237, 468517, 434620, 207421, 533170, 684120, 633573, 422507, 238222, 656252, 724614]\n"
     ]
    }
   ],
   "source": [
    "%run DC3.py"
   ]
  },
  {
   "attachments": {},
   "cell_type": "markdown",
   "metadata": {},
   "source": [
    "L'algorithme de DC3 nous permet ainsi d'avoir une liste ordonnée de tous les suffixes de chaque chromosome. Afin de ne pas avoir à recalculer cette dernière à chaque nouveau mapping, nous avons décidé de stocker les données ainsi générée dans des fichiers textes. \n",
    "\n",
    "Grâce à cet algorithme, la complexité du calcul de la table des suffixes est linéaire dans le temps, et de cette manière nous obtenons pour chaque chromosome des résultats en moins d'une minute."
   ]
  },
  {
   "cell_type": "code",
   "execution_count": null,
   "metadata": {},
   "outputs": [],
   "source": [
    "import json\n",
    "f = open('data.json',)\n",
    "   \n",
    "# returns JSON object as \n",
    "# a dictionary\n",
    "data = json.load(f)"
   ]
  },
  {
   "cell_type": "markdown",
   "metadata": {},
   "source": [
    "### Calcul de la BWT"
   ]
  },
  {
   "attachments": {},
   "cell_type": "markdown",
   "metadata": {},
   "source": [
    "En ayant ainsi obtenu les listes de suffixes par l'algorithme de DC3, nous pouvons aussi à présent calculer la Burrows Wheeler Transform (BWT) qui peut permettre de mapper les reads dans chacun des chromosomes. La BWT est simplement obtenue en cherchant le caractère précédant chacun des premiers caractères de la table des suffixes.\n",
    "\n",
    "La BWT peut aussi être utile pour la compression de données. En effet, cette dernière à tendance à réunir les caractères similaires ensemble. Ici nous ne nous sommes pas servi de cette propriété pour compresser les données. Les résultats ont aussi été stockés dans des fichiers textes. Dans ces derniers ont aussi été stockés le rang de chaque caractère du génome. Cette information est très utile pour le mapping par la suite.\n",
    "\n",
    "Les BWT, tables des suffixes ont été stockées dans des fichiers .json pour faciliter leur utilisation."
   ]
  },
  {
   "cell_type": "markdown",
   "metadata": {},
   "source": [
    "Mapping"
   ]
  },
  {
   "attachments": {},
   "cell_type": "markdown",
   "metadata": {},
   "source": [
    "Notre algorithme de alignement à partir de la BWT utilise les fonctions suivantes pour fonctionner."
   ]
  },
  {
   "cell_type": "code",
   "execution_count": null,
   "metadata": {},
   "outputs": [],
   "source": [
    "def rank(str,char,i,j):\n",
    "    Count1=0\n",
    "    k=0\n",
    "    for k in range(i):\n",
    "        if str[k]==char:\n",
    "            Count1+=1\n",
    "    Count2 = Count1\n",
    "    for k in range(i,j):\n",
    "        if str[k]==char:\n",
    "            Count2+=1\n",
    "    return Count2, Count1\n"
   ]
  },
  {
   "cell_type": "markdown",
   "metadata": {},
   "source": [
    "La fonction rank prend en entrée un string, un caractère et 2 positions i et j et retourne le nombre d'occurences du caractère jusqu'à la position i et j."
   ]
  },
  {
   "cell_type": "code",
   "execution_count": null,
   "metadata": {},
   "outputs": [],
   "source": [
    "def band(str,char):\n",
    "    a=np.array(sorted(str.strip()))\n",
    "    return np.where(a==char)\n",
    "\n",
    "bgA=band(S,\"A\")\n",
    "bgT=band(S,\"T\")\n",
    "bgG=band(S,\"G\")\n",
    "bgC=band(S,\"C\")\n",
    "\n",
    "dico={\"A\":bgA,\"T\":bgT,\"G\":bgG,\"C\":bgC}"
   ]
  },
  {
   "attachments": {},
   "cell_type": "markdown",
   "metadata": {},
   "source": [
    "La fonction band prend en paramètres un string et un caractère et retourne les positions dans le string trié où le caractère est présent. Pour éviter de recalculer cela à chaque appel de fonction, le résultats est stocké dans un dictionnaire."
   ]
  },
  {
   "cell_type": "code",
   "execution_count": null,
   "metadata": {},
   "outputs": [
    {
     "ename": "",
     "evalue": "",
     "output_type": "error",
     "traceback": [
      "\u001b[1;31mJupyter ne peut pas être démarré. Erreur lors de la tentative de localisation de Jupyter : Les cellules en cours d’exécution nécessitent notebook et jupyter package.\n",
      "\u001b[1;31mExécutez la commande suivante pour installer 'jupyter et notebook' dans l’environnement Python. \n",
      "\u001b[1;31mCommande : 'python -m pip install jupyter notebook -U\n",
      "\u001b[1;31mor\n",
      "\u001b[1;31mconda install jupyter notebook -U'\n",
      "\u001b[1;31mCliquez sur <a href='https://aka.ms/installJupyterForVSCode'>ici</a> pour plus d’informations."
     ]
    }
   ],
   "source": [
    "def BWAo(str, rank, read, dico): \n",
    "    index=len(read)-1 \n",
    "    s = read[index] \n",
    "    \n",
    "    band_start=dico[s][0][0] #donne les indices correspondant à la dernière lettre du read\n",
    "    band_end=dico[s][0][-1]+1\n",
    "\n",
    "    numDic = {\"A\":0, \"C\":1, \"G\":2, \"T\":3}\n",
    "    for i in range(index-1,-1,-1): #parcours le read en partant de la fin\n",
    "        if(band_start == band_end): #condition si le read n'est pas retrouvé\n",
    "            pass\n",
    "        s = read[i] #donne la lettre suivante à rechercher\n",
    "        letterNum = numDic[s] \n",
    "        if band_start>0: #retourne les rangs de s \n",
    "            rank_top, rank_bottom = rank[band_start-1][letterNum], rank[band_end-1][letterNum] \n",
    "        else:\n",
    "            rank_top, rank_bottom = rank[band_start][letterNum], rank[band_end-1][letterNum]\n",
    "        a=dico[s][0][0]\n",
    "        band_start=a+rank_top #nouvelle bande qui correspond au à la partie de read parcouru\n",
    "        band_end=a+rank_bottom\n",
    "    return band_start,band_end #retourne les positions deans la table des suffixes où le read est retrouvé\n"
   ]
  },
  {
   "cell_type": "code",
   "execution_count": null,
   "metadata": {},
   "outputs": [],
   "source": [
    "def kmers(str,k):\n",
    "    \"\"\"\n",
    "    Paramètres: str:string, k:taille des kmers\n",
    "    Sortie: listes des kmers dans l'ordre\n",
    "    \"\"\"\n",
    "    l=len(str)\n",
    "    b=l-l%k\n",
    "    a=[]\n",
    "    for i in range(0,b,k):\n",
    "        a.append(str[i:i+k])\n",
    "    if b!=l:\n",
    "        a.append(str[b:])\n",
    "    return a\n"
   ]
  },
  {
   "cell_type": "markdown",
   "metadata": {},
   "source": [
    "La fonction kmers permet de decouper le string en kmers"
   ]
  },
  {
   "cell_type": "markdown",
   "metadata": {},
   "source": [
    "En recherchant dans la table des suffixes ordonné les positions donnes par la fonction BWAo, on peut obtenir la liste des positions où le read est retrouvé. Cette liste est utilisé par la suite dans la fonction ci-dessous pour determiner la localisations des reads."
   ]
  },
  {
   "cell_type": "code",
   "execution_count": null,
   "metadata": {},
   "outputs": [],
   "source": [
    "def mapping(pos,S,k,kread):\n",
    "    power=[]\n",
    "    for j in range(len(pos)):\n",
    "        err=0 #nombre d'erreurs autorisées\n",
    "        #errorlist=[]\n",
    "        d=0 #variable qui indique le decalage du cadre de lecture en cas d'indels\n",
    "        for c in range(1,len(kread)):\n",
    "            a,b=pos[j]+c*k+d,pos[j]+(c+1)*k+d #coordonnées théoriques du kmer n+1 \n",
    "            if S[a:b]!=kread[c]:\n",
    "                err-=1 \n",
    "                if err==-1: #la boucle s'arrete si trop d'erreurs\n",
    "                    break\n",
    "                if c<len(kread)-1:  \n",
    "                    if S[a+k+1:b+k+1]==kread[c+1]: #le kmer n+2 est retrouvé si insertion\n",
    "                        d+=1\n",
    "                    if S[a+k-1:b+k-1]==kread[c+1]: #le kmer n+2 est retrouvé si deletion\n",
    "                        d-=1\n",
    "                #errorlist.append(a)\n",
    "        if err!=-1:\n",
    "            power.append(pos[j])\n",
    "    return power"
   ]
  },
  {
   "attachments": {},
   "cell_type": "markdown",
   "metadata": {},
   "source": [
    "La fonction mapping prend en paramètres une liste des positions où le premier kmer du read est retrouvé (pos), le génome (S), la taille des kmers (k) et la liste des kmers du read dans l'ordre (kread). Le principe de l'algorithme consiste à pour chaque position du premier kmer du read, de comparer la suite dans le génome au kmer du read suivant. \n",
    "La variable errorlist retourne la liste des positons des kmers qui n'ont pas été retrouvé au sein du read.\n",
    "Dans le cas où une mutation/erreur de séquençage sur le premier read, la fonction devrait être relancé en partant du 2e kmers.  "
   ]
  },
  {
   "attachments": {},
   "cell_type": "markdown",
   "metadata": {},
   "source": [
    "La complexité temporelle de l'algorithme a été évalué avec le module cprofile, qui permet de donner les fonctions qui prennent le plus de temps. Celui indique que le mapping tourne à environ 700 itérations/secondes. La fonction mapping est celle qui occupe la majorité du temps de calcul. Cette fonction parcours la liste des positions du kmers 1 se qui est au pire de l'orde de la taille du génome, et pour chaque itérations elle parcours la liste des kmers du read en faisant des comparaisons entre string des la taille du kmers. On peut donc évaluer la complexité de la fonction mapping à environ O(n*m) où n=len(genome) et m=len(read). "
   ]
  },
  {
   "attachments": {},
   "cell_type": "markdown",
   "metadata": {},
   "source": [
    "Le mapping étant une opération coûteuse en ressources, il semble intérressant d'utiliser des methodes de nettoyage des reads pour eviter d'utiliser des ressources inutilement. Par exemple, avec Trimmomatic, il est possible de retirer les séquences qui sont de faibles qualités ou encore de retirer les séquences qui correspondent à des amorces de PCR au extrêmités des reads."
   ]
  },
  {
   "attachments": {},
   "cell_type": "markdown",
   "metadata": {},
   "source": [
    "### Protocole d'interpretation des résultats"
   ]
  },
  {
   "attachments": {},
   "cell_type": "markdown",
   "metadata": {},
   "source": [
    "Avec la listes de positions des reads sur le génome et la liste des erreurs, on peut quantifier la couverture du génome en comptant les nombres d'occurences de kmers. Cela permettrait d'identifier si une différence entre les reads et le génome est dûe à un mutation (alors le nombre de kmers différents est equivalent au nombre de kmers retrouvés). Au contraire, si un nombre faible de kmers est différent pour une position, il s'agit plus probablement d'une erreur de séquençage."
   ]
  },
  {
   "cell_type": "code",
   "execution_count": null,
   "metadata": {},
   "outputs": [],
   "source": []
  }
 ],
 "metadata": {
  "kernelspec": {
   "display_name": "Python 3",
   "language": "python",
   "name": "python3"
  },
  "language_info": {
   "codemirror_mode": {
    "name": "ipython",
    "version": 3
   },
   "file_extension": ".py",
   "mimetype": "text/x-python",
   "name": "python",
   "nbconvert_exporter": "python",
   "pygments_lexer": "ipython3",
   "version": "3.7.3"
  },
  "vscode": {
   "interpreter": {
    "hash": "31f2aee4e71d21fbe5cf8b01ff0e069b9275f58929596ceb00d14d90e3e16cd6"
   }
  }
 },
 "nbformat": 4,
 "nbformat_minor": 2
}
